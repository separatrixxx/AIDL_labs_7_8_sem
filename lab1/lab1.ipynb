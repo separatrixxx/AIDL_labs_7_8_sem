{
 "cells": [
  {
   "cell_type": "markdown",
   "metadata": {},
   "source": [
    "# Лабораторная работа 1, Лохматов Никита Игоревич М8О-406Б-21"
   ]
  },
  {
   "cell_type": "markdown",
   "metadata": {},
   "source": [
    "## 1. Выбор начальных условий"
   ]
  },
  {
   "cell_type": "markdown",
   "metadata": {},
   "source": [
    "### a. Набор данных для классификации: Shelter Animal Outcomes\n",
    "\n",
    "Датасет Shelter Animal Outcomes (https://www.kaggle.com/c/shelter-animal-outcomes/overview) содержит информацию о животных, находящихся в приютах, и их судьбах. В данной задаче классификации цель состоит в прогнозировании, будет ли животное усыновлено (adoption) или нет. Решение этой задачи поможет приютам заранее оценивать шансы на усыновление, что позволит улучшить процесс управления, разработать персонализированные стратегии для животных с низкой вероятностью усыновления и повысить общий уровень успешных пристройств.\n",
    "\n",
    "Набор содержит категориальные (вид животного, пол, цвет) и числовые (возраст) признаки, что делает его подходящим для изучения методов обработки различных типов данных."
   ]
  },
  {
   "cell_type": "markdown",
   "metadata": {},
   "source": [
    "### b. Датасет для задачи регрессии: King County House Sales\n",
    "\n",
    "Для задачи регрессии лучше подойдёт датасет King County House Sales (https://www.kaggle.com/harlfoxem/housesalesprediction), содержащий данные о продажах недвижимости в округе Кинг, штат Вашингтон, США. Датасет включает такие параметры, как цена недвижимости, количество комнат, площадь дома и участка, год постройки, местоположение и другие характеристики.\n",
    "\n",
    "Цель регрессии — предсказать цену дома на основе его характеристик.\n",
    "\n",
    "Этот анализ поможет:\n",
    "- Владельцам недвижимости правильно оценить стоимость своего дома перед продажей.\n",
    "- Покупателям понять, какие характеристики влияют на стоимость жилья.\n",
    "- Агентствам недвижимости изучить рыночные тренды и улучшить свои прогнозы.\n",
    "- Датасет содержит как числовые (площадь, количество комнат), так и категориальные (местоположение, класс дома) признаки, что позволяет изучать различные подходы к предобработке данных и построению моделей.\n",
    "\n"
   ]
  },
  {
   "cell_type": "markdown",
   "metadata": {},
   "source": [
    "### c. Выбор метрик качества и обоснование\n",
    "\n",
    "**Для классификации (Shelter Animal Outcomes):**\n",
    "\n",
    "1. Accuracy (доля правильно классифицированных объектов):\n",
    "\n",
    "- Используется как базовая метрика для оценки общей точности модели.\n",
    "- Обоснование: учитывая многоклассовую классификацию, accuracy дает общее представление о правильности предсказаний.\n",
    "\n",
    "2. Recall (полнота):\n",
    "\n",
    "- Показывает, какая доля объектов каждого класса была корректно предсказана.\n",
    "- Обоснование: Важно для задач, где критично распознать как можно больше объектов определенного класса (например, предотвратить эвтаназию животных).\n",
    "\n",
    "3. Precision (точность):\n",
    "\n",
    "- Показывает, какая доля объектов, отнесенных моделью к определенному классу, действительно принадлежит этому классу.\n",
    "- Обоснование: важно для минимизации ложных положительных результатов (например, неверная классификация животных как adoptable).\n",
    "\n",
    "4. F1-score (взвешенное среднее Precision и Recall):\n",
    "\n",
    "- Учитывает баланс между полнотой (Recall) и точностью (Precision).\n",
    "- Обоснование: в данном случае важно минимизировать ошибки в редких классах (например, euthanasia), так как это может иметь серьезные последствия.\n",
    "\n",
    "5. Confusion Matrix:\n",
    "\n",
    "- Визуализирует, какие классы путаются моделью.\n",
    "- Обоснование: позволяет детально анализировать производительность модели по каждому классу.\n",
    "\n",
    "**Для регрессии (King County House Sales):**\n",
    "\n",
    "1. Mean Absolute Error (MAE):\n",
    "\n",
    "- Вычисляет среднюю абсолютную ошибку предсказания.\n",
    "- Обоснование: простая и интерпретируемая метрика, показывает, насколько в среднем модель ошибается в предсказаниях.\n",
    "\n",
    "2. Mean Squared Error (MSE):\n",
    "\n",
    "- Среднеквадратичная ошибка.\n",
    "- Обоснование: штрафует большие отклонения сильнее, чем MAE, что важно, если существенные ошибки имеют больший вес.\n",
    "\n",
    "3. R² Score (коэффициент детерминации):\n",
    "\n",
    "- Показывает долю дисперсии зависимой переменной, объясненную моделью.\n",
    "- Обоснование: удобен для оценки того, насколько хорошо модель объясняет данные."
   ]
  },
  {
   "cell_type": "markdown",
   "metadata": {},
   "source": [
    "## 2. Создание бейзлайна и оценка качества"
   ]
  },
  {
   "cell_type": "markdown",
   "metadata": {},
   "source": [
    "### a. Обучение модели из sklearn для классификации и оценка качества моделей по выбранным метрикам"
   ]
  },
  {
   "cell_type": "markdown",
   "metadata": {},
   "source": [
    "Импортируем библиотеки"
   ]
  },
  {
   "cell_type": "code",
   "execution_count": 1,
   "metadata": {},
   "outputs": [],
   "source": [
    "import pandas as pd\n",
    "from sklearn.model_selection import train_test_split, GridSearchCV, cross_val_score\n",
    "from sklearn.preprocessing import StandardScaler\n",
    "from sklearn.impute import SimpleImputer\n",
    "from sklearn.neighbors import KNeighborsRegressor\n",
    "from sklearn.neighbors import KNeighborsClassifier\n",
    "from sklearn.metrics import accuracy_score, f1_score, recall_score, precision_score, confusion_matrix, mean_absolute_error, mean_squared_error, r2_score\n",
    "import seaborn as sns\n",
    "import matplotlib.pyplot as plt"
   ]
  },
  {
   "cell_type": "markdown",
   "metadata": {},
   "source": [
    "Сделаем предобработку данных"
   ]
  },
  {
   "cell_type": "code",
   "execution_count": 2,
   "metadata": {},
   "outputs": [],
   "source": [
    "# Загрузка данных\n",
    "shelter_data = pd.read_csv('./shelter_animal_outcomes/train.csv')\n",
    "\n",
    "# Создаём целевую переменную для бинарной классификации: \"произойдёт ли усыновление\"\n",
    "shelter_data['IsAdopted'] = shelter_data['OutcomeType'].apply(lambda x: 1 if x == 'Adoption' else 0)\n",
    "\n",
    "# Удаляем ненужные столбцы\n",
    "X_shelter = shelter_data.drop(columns=['AnimalID', 'Name', 'DateTime', 'OutcomeType', 'IsAdopted'])\n",
    "y_shelter = shelter_data['IsAdopted']\n",
    "\n",
    "# Обработка пропущенных значений\n",
    "imputer = SimpleImputer(strategy='most_frequent')\n",
    "X_shelter = pd.DataFrame(imputer.fit_transform(X_shelter), columns=X_shelter.columns)\n",
    "\n",
    "# Кодируем категориальные признаки\n",
    "X_shelter = pd.get_dummies(X_shelter, drop_first=True)\n",
    "\n",
    "# Разделение на обучающую и тестовую выборки\n",
    "X_train_shelter, X_test_shelter, y_train_shelter, y_test_shelter = train_test_split(\n",
    "    X_shelter, y_shelter, test_size=0.2, random_state=42\n",
    ")"
   ]
  },
  {
   "cell_type": "markdown",
   "metadata": {},
   "source": [
    "Обучение модели"
   ]
  },
  {
   "cell_type": "code",
   "execution_count": 3,
   "metadata": {},
   "outputs": [
    {
     "data": {
      "text/html": [
       "<style>#sk-container-id-1 {color: black;background-color: white;}#sk-container-id-1 pre{padding: 0;}#sk-container-id-1 div.sk-toggleable {background-color: white;}#sk-container-id-1 label.sk-toggleable__label {cursor: pointer;display: block;width: 100%;margin-bottom: 0;padding: 0.3em;box-sizing: border-box;text-align: center;}#sk-container-id-1 label.sk-toggleable__label-arrow:before {content: \"▸\";float: left;margin-right: 0.25em;color: #696969;}#sk-container-id-1 label.sk-toggleable__label-arrow:hover:before {color: black;}#sk-container-id-1 div.sk-estimator:hover label.sk-toggleable__label-arrow:before {color: black;}#sk-container-id-1 div.sk-toggleable__content {max-height: 0;max-width: 0;overflow: hidden;text-align: left;background-color: #f0f8ff;}#sk-container-id-1 div.sk-toggleable__content pre {margin: 0.2em;color: black;border-radius: 0.25em;background-color: #f0f8ff;}#sk-container-id-1 input.sk-toggleable__control:checked~div.sk-toggleable__content {max-height: 200px;max-width: 100%;overflow: auto;}#sk-container-id-1 input.sk-toggleable__control:checked~label.sk-toggleable__label-arrow:before {content: \"▾\";}#sk-container-id-1 div.sk-estimator input.sk-toggleable__control:checked~label.sk-toggleable__label {background-color: #d4ebff;}#sk-container-id-1 div.sk-label input.sk-toggleable__control:checked~label.sk-toggleable__label {background-color: #d4ebff;}#sk-container-id-1 input.sk-hidden--visually {border: 0;clip: rect(1px 1px 1px 1px);clip: rect(1px, 1px, 1px, 1px);height: 1px;margin: -1px;overflow: hidden;padding: 0;position: absolute;width: 1px;}#sk-container-id-1 div.sk-estimator {font-family: monospace;background-color: #f0f8ff;border: 1px dotted black;border-radius: 0.25em;box-sizing: border-box;margin-bottom: 0.5em;}#sk-container-id-1 div.sk-estimator:hover {background-color: #d4ebff;}#sk-container-id-1 div.sk-parallel-item::after {content: \"\";width: 100%;border-bottom: 1px solid gray;flex-grow: 1;}#sk-container-id-1 div.sk-label:hover label.sk-toggleable__label {background-color: #d4ebff;}#sk-container-id-1 div.sk-serial::before {content: \"\";position: absolute;border-left: 1px solid gray;box-sizing: border-box;top: 0;bottom: 0;left: 50%;z-index: 0;}#sk-container-id-1 div.sk-serial {display: flex;flex-direction: column;align-items: center;background-color: white;padding-right: 0.2em;padding-left: 0.2em;position: relative;}#sk-container-id-1 div.sk-item {position: relative;z-index: 1;}#sk-container-id-1 div.sk-parallel {display: flex;align-items: stretch;justify-content: center;background-color: white;position: relative;}#sk-container-id-1 div.sk-item::before, #sk-container-id-1 div.sk-parallel-item::before {content: \"\";position: absolute;border-left: 1px solid gray;box-sizing: border-box;top: 0;bottom: 0;left: 50%;z-index: -1;}#sk-container-id-1 div.sk-parallel-item {display: flex;flex-direction: column;z-index: 1;position: relative;background-color: white;}#sk-container-id-1 div.sk-parallel-item:first-child::after {align-self: flex-end;width: 50%;}#sk-container-id-1 div.sk-parallel-item:last-child::after {align-self: flex-start;width: 50%;}#sk-container-id-1 div.sk-parallel-item:only-child::after {width: 0;}#sk-container-id-1 div.sk-dashed-wrapped {border: 1px dashed gray;margin: 0 0.4em 0.5em 0.4em;box-sizing: border-box;padding-bottom: 0.4em;background-color: white;}#sk-container-id-1 div.sk-label label {font-family: monospace;font-weight: bold;display: inline-block;line-height: 1.2em;}#sk-container-id-1 div.sk-label-container {text-align: center;}#sk-container-id-1 div.sk-container {/* jupyter's `normalize.less` sets `[hidden] { display: none; }` but bootstrap.min.css set `[hidden] { display: none !important; }` so we also need the `!important` here to be able to override the default hidden behavior on the sphinx rendered scikit-learn.org. See: https://github.com/scikit-learn/scikit-learn/issues/21755 */display: inline-block !important;position: relative;}#sk-container-id-1 div.sk-text-repr-fallback {display: none;}</style><div id=\"sk-container-id-1\" class=\"sk-top-container\"><div class=\"sk-text-repr-fallback\"><pre>KNeighborsClassifier()</pre><b>In a Jupyter environment, please rerun this cell to show the HTML representation or trust the notebook. <br />On GitHub, the HTML representation is unable to render, please try loading this page with nbviewer.org.</b></div><div class=\"sk-container\" hidden><div class=\"sk-item\"><div class=\"sk-estimator sk-toggleable\"><input class=\"sk-toggleable__control sk-hidden--visually\" id=\"sk-estimator-id-1\" type=\"checkbox\" checked><label for=\"sk-estimator-id-1\" class=\"sk-toggleable__label sk-toggleable__label-arrow\">KNeighborsClassifier</label><div class=\"sk-toggleable__content\"><pre>KNeighborsClassifier()</pre></div></div></div></div></div>"
      ],
      "text/plain": [
       "KNeighborsClassifier()"
      ]
     },
     "execution_count": 3,
     "metadata": {},
     "output_type": "execute_result"
    }
   ],
   "source": [
    "# Инициализация и обучение KNeighborsClassifier\n",
    "knn_clf = KNeighborsClassifier(n_neighbors=5)\n",
    "knn_clf.fit(X_train_shelter, y_train_shelter)"
   ]
  },
  {
   "cell_type": "markdown",
   "metadata": {},
   "source": [
    "Оценка качества модели"
   ]
  },
  {
   "cell_type": "code",
   "execution_count": 4,
   "metadata": {},
   "outputs": [
    {
     "name": "stdout",
     "output_type": "stream",
     "text": [
      "Accuracy: 0.73\n",
      "F1 Score: 0.67\n",
      "Recall: 0.66\n",
      "Precision: 0.68\n"
     ]
    },
    {
     "data": {
      "image/png": "[encoded data removed]",
      "text/plain": [
       "<Figure size 600x600 with 2 Axes>"
      ]
     },
     "metadata": {},
     "output_type": "display_data"
    }
   ],
   "source": [
    "# Предсказание\n",
    "y_pred_shelter = knn_clf.predict(X_test_shelter)\n",
    "\n",
    "# Метрики качества\n",
    "accuracy = accuracy_score(y_test_shelter, y_pred_shelter)\n",
    "f1 = f1_score(y_test_shelter, y_pred_shelter)\n",
    "recall = recall_score(y_test_shelter, y_pred_shelter)\n",
    "precision = precision_score(y_test_shelter, y_pred_shelter)\n",
    "\n",
    "print(f\"Accuracy: {accuracy:.2f}\")\n",
    "print(f\"F1 Score: {f1:.2f}\")\n",
    "print(f\"Recall: {recall:.2f}\")\n",
    "print(f\"Precision: {precision:.2f}\")\n",
    "\n",
    "# Confusion Matrix\n",
    "conf_matrix = confusion_matrix(y_test_shelter, y_pred_shelter)\n",
    "\n",
    "# Визуализация Confusion Matrix\n",
    "plt.figure(figsize=(6, 6))\n",
    "sns.heatmap(conf_matrix, annot=True, fmt='d', cmap='Blues', xticklabels=['Not Adopted', 'Adopted'], yticklabels=['Not Adopted', 'Adopted'])\n",
    "plt.title('Confusion Matrix')\n",
    "plt.xlabel('Predicted')\n",
    "plt.ylabel('Actual')\n",
    "plt.show()"
   ]
  },
  {
   "cell_type": "markdown",
   "metadata": {},
   "source": [
    "### b. Обучение модели из sklearn для регрессии и оценка качества моделей по выбранным метрикам"
   ]
  },
  {
   "cell_type": "markdown",
   "metadata": {},
   "source": [
    "Сделаем предобработку данных"
   ]
  },
  {
   "cell_type": "code",
   "execution_count": 9,
   "metadata": {},
   "outputs": [],
   "source": [
    "# Загрузка данных\n",
    "house_data = pd.read_csv('./kc_house_data/kc_house_data.csv')\n",
    "\n",
    "# Удаляем строки с пропущенными значениями в целевой переменной\n",
    "house_data = house_data.dropna(subset=['price'])\n",
    "\n",
    "# Выбираем дополнительные признаки\n",
    "selected_features = [\n",
    "    'sqft_living', 'bedrooms', 'bathrooms', 'floors', \n",
    "    'sqft_lot', 'waterfront', 'view', 'condition', \n",
    "    'grade', 'sqft_above', 'sqft_basement', 'yr_built'\n",
    "]\n",
    "\n",
    "# Выбираем признаки и целевую переменную\n",
    "X_house = house_data[selected_features]  # Признаки\n",
    "y_house = house_data['price']  # Целевая переменная\n",
    "\n",
    "# Обработка пропущенных значений для X_house (если есть)\n",
    "imputer = SimpleImputer(strategy='mean')\n",
    "X_house = pd.DataFrame(imputer.fit_transform(X_house), columns=X_house.columns)\n",
    "\n",
    "# Нормализация числовых признаков (важно для KNN)\n",
    "scaler = StandardScaler()\n",
    "X_house_scaled = pd.DataFrame(scaler.fit_transform(X_house), columns=X_house.columns)\n",
    "\n",
    "# Делим на обучающую и тестовую выборки\n",
    "X_train_house, X_test_house, y_train_house, y_test_house = train_test_split(\n",
    "    X_house_scaled, y_house, test_size=0.2, random_state=42\n",
    ")"
   ]
  },
  {
   "cell_type": "markdown",
   "metadata": {},
   "source": [
    "Обучение модели"
   ]
  },
  {
   "cell_type": "code",
   "execution_count": 10,
   "metadata": {},
   "outputs": [
    {
     "data": {
      "text/html": [
       "<style>#sk-container-id-2 {color: black;background-color: white;}#sk-container-id-2 pre{padding: 0;}#sk-container-id-2 div.sk-toggleable {background-color: white;}#sk-container-id-2 label.sk-toggleable__label {cursor: pointer;display: block;width: 100%;margin-bottom: 0;padding: 0.3em;box-sizing: border-box;text-align: center;}#sk-container-id-2 label.sk-toggleable__label-arrow:before {content: \"▸\";float: left;margin-right: 0.25em;color: #696969;}#sk-container-id-2 label.sk-toggleable__label-arrow:hover:before {color: black;}#sk-container-id-2 div.sk-estimator:hover label.sk-toggleable__label-arrow:before {color: black;}#sk-container-id-2 div.sk-toggleable__content {max-height: 0;max-width: 0;overflow: hidden;text-align: left;background-color: #f0f8ff;}#sk-container-id-2 div.sk-toggleable__content pre {margin: 0.2em;color: black;border-radius: 0.25em;background-color: #f0f8ff;}#sk-container-id-2 input.sk-toggleable__control:checked~div.sk-toggleable__content {max-height: 200px;max-width: 100%;overflow: auto;}#sk-container-id-2 input.sk-toggleable__control:checked~label.sk-toggleable__label-arrow:before {content: \"▾\";}#sk-container-id-2 div.sk-estimator input.sk-toggleable__control:checked~label.sk-toggleable__label {background-color: #d4ebff;}#sk-container-id-2 div.sk-label input.sk-toggleable__control:checked~label.sk-toggleable__label {background-color: #d4ebff;}#sk-container-id-2 input.sk-hidden--visually {border: 0;clip: rect(1px 1px 1px 1px);clip: rect(1px, 1px, 1px, 1px);height: 1px;margin: -1px;overflow: hidden;padding: 0;position: absolute;width: 1px;}#sk-container-id-2 div.sk-estimator {font-family: monospace;background-color: #f0f8ff;border: 1px dotted black;border-radius: 0.25em;box-sizing: border-box;margin-bottom: 0.5em;}#sk-container-id-2 div.sk-estimator:hover {background-color: #d4ebff;}#sk-container-id-2 div.sk-parallel-item::after {content: \"\";width: 100%;border-bottom: 1px solid gray;flex-grow: 1;}#sk-container-id-2 div.sk-label:hover label.sk-toggleable__label {background-color: #d4ebff;}#sk-container-id-2 div.sk-serial::before {content: \"\";position: absolute;border-left: 1px solid gray;box-sizing: border-box;top: 0;bottom: 0;left: 50%;z-index: 0;}#sk-container-id-2 div.sk-serial {display: flex;flex-direction: column;align-items: center;background-color: white;padding-right: 0.2em;padding-left: 0.2em;position: relative;}#sk-container-id-2 div.sk-item {position: relative;z-index: 1;}#sk-container-id-2 div.sk-parallel {display: flex;align-items: stretch;justify-content: center;background-color: white;position: relative;}#sk-container-id-2 div.sk-item::before, #sk-container-id-2 div.sk-parallel-item::before {content: \"\";position: absolute;border-left: 1px solid gray;box-sizing: border-box;top: 0;bottom: 0;left: 50%;z-index: -1;}#sk-container-id-2 div.sk-parallel-item {display: flex;flex-direction: column;z-index: 1;position: relative;background-color: white;}#sk-container-id-2 div.sk-parallel-item:first-child::after {align-self: flex-end;width: 50%;}#sk-container-id-2 div.sk-parallel-item:last-child::after {align-self: flex-start;width: 50%;}#sk-container-id-2 div.sk-parallel-item:only-child::after {width: 0;}#sk-container-id-2 div.sk-dashed-wrapped {border: 1px dashed gray;margin: 0 0.4em 0.5em 0.4em;box-sizing: border-box;padding-bottom: 0.4em;background-color: white;}#sk-container-id-2 div.sk-label label {font-family: monospace;font-weight: bold;display: inline-block;line-height: 1.2em;}#sk-container-id-2 div.sk-label-container {text-align: center;}#sk-container-id-2 div.sk-container {/* jupyter's `normalize.less` sets `[hidden] { display: none; }` but bootstrap.min.css set `[hidden] { display: none !important; }` so we also need the `!important` here to be able to override the default hidden behavior on the sphinx rendered scikit-learn.org. See: https://github.com/scikit-learn/scikit-learn/issues/21755 */display: inline-block !important;position: relative;}#sk-container-id-2 div.sk-text-repr-fallback {display: none;}</style><div id=\"sk-container-id-2\" class=\"sk-top-container\"><div class=\"sk-text-repr-fallback\"><pre>KNeighborsRegressor()</pre><b>In a Jupyter environment, please rerun this cell to show the HTML representation or trust the notebook. <br />On GitHub, the HTML representation is unable to render, please try loading this page with nbviewer.org.</b></div><div class=\"sk-container\" hidden><div class=\"sk-item\"><div class=\"sk-estimator sk-toggleable\"><input class=\"sk-toggleable__control sk-hidden--visually\" id=\"sk-estimator-id-2\" type=\"checkbox\" checked><label for=\"sk-estimator-id-2\" class=\"sk-toggleable__label sk-toggleable__label-arrow\">KNeighborsRegressor</label><div class=\"sk-toggleable__content\"><pre>KNeighborsRegressor()</pre></div></div></div></div></div>"
      ],
      "text/plain": [
       "KNeighborsRegressor()"
      ]
     },
     "execution_count": 10,
     "metadata": {},
     "output_type": "execute_result"
    }
   ],
   "source": [
    "# Инициализация и обучение KNeighborsRegressor\n",
    "knn_reg = KNeighborsRegressor(n_neighbors=5)\n",
    "knn_reg.fit(X_train_house, y_train_house)"
   ]
  },
  {
   "cell_type": "markdown",
   "metadata": {},
   "source": [
    "Оценка качества модели"
   ]
  },
  {
   "cell_type": "code",
   "execution_count": 11,
   "metadata": {},
   "outputs": [
    {
     "name": "stdout",
     "output_type": "stream",
     "text": [
      "Mean Absolute Error (MAE): 141845.63136710617\n",
      "Mean Squared Error (MSE): 52000476114.3992\n",
      "R-squared (R^2): 0.6560285288778613\n"
     ]
    }
   ],
   "source": [
    "# Предсказание\n",
    "y_pred_house = knn_reg.predict(X_test_house)\n",
    "\n",
    "# Метрики качества\n",
    "mae = mean_absolute_error(y_test_house, y_pred_house)\n",
    "mse = mean_squared_error(y_test_house, y_pred_house)\n",
    "r2 = r2_score(y_test_house, y_pred_house)\n",
    "\n",
    "print(f\"Mean Absolute Error (MAE): {mae}\")\n",
    "print(f\"Mean Squared Error (MSE): {mse}\")\n",
    "print(f\"R-squared (R^2): {r2}\")"
   ]
  },
  {
   "cell_type": "markdown",
   "metadata": {},
   "source": [
    "## 3. Улучшение бейзлайна"
   ]
  },
  {
   "cell_type": "markdown",
   "metadata": {},
   "source": [
    "### a. Сформулировать гипотезы (препроцессинг данных, визуализация данных, формирование новых признаков, подбор гиперпараметров на кросс-валидации и т.д.)"
   ]
  },
  {
   "cell_type": "markdown",
   "metadata": {},
   "source": [
    "1. Улучшение предобработки данных: нормализация или стандартизация\n",
    "\n",
    "2. Формирование новых признаков на основе комбинации существующих\n",
    "\n",
    "3. Подбор гиперпараметров: Grid Search с кросс-валидацией для оптимизации модели"
   ]
  },
  {
   "cell_type": "markdown",
   "metadata": {},
   "source": [
    "### b.1 Проверка гипотез для задачи классификации"
   ]
  },
  {
   "cell_type": "markdown",
   "metadata": {},
   "source": [
    "1. Улучшение предобработки данных (масштабирование и нормализация)"
   ]
  },
  {
   "cell_type": "code",
   "execution_count": null,
   "metadata": {},
   "outputs": [
    {
     "name": "stdout",
     "output_type": "stream",
     "text": [
      "Улучшение: масштабирование\n",
      "Accuracy: 0.69\n",
      "F1 Score: 0.62\n",
      "Recall: 0.62\n",
      "Precision: 0.62\n",
      "\n",
      "Сравнение с бейзлайном:\n",
      "Разница в Accuracy: -0.04\n",
      "Разница в F1 Score: -0.05\n"
     ]
    }
   ],
   "source": [
    "# Масштабирование данных\n",
    "scaler_shelter = StandardScaler()\n",
    "X_train_shelter_scaled = scaler_shelter.fit_transform(X_train_shelter)\n",
    "X_test_shelter_scaled = scaler_shelter.transform(X_test_shelter)\n",
    "\n",
    "# Повторное обучение модели на масштабированных данных\n",
    "knn_clf = KNeighborsClassifier(n_neighbors=5)\n",
    "knn_clf.fit(X_train_shelter_scaled, y_train_shelter)\n",
    "\n",
    "# Предсказание и метрики для масштабированных данных\n",
    "y_pred_shelter_scaled = knn_clf.predict(X_test_shelter_scaled)\n",
    "\n",
    "accuracy_scaled = accuracy_score(y_test_shelter, y_pred_shelter_scaled)\n",
    "f1_scaled = f1_score(y_test_shelter, y_pred_shelter_scaled)\n",
    "recall_scaled = recall_score(y_test_shelter, y_pred_shelter_scaled)\n",
    "precision_scaled = precision_score(y_test_shelter, y_pred_shelter_scaled)\n",
    "\n",
    "# Вывод результатов\n",
    "print(\"Улучшение: масштабирование\")\n",
    "print(f\"Accuracy: {accuracy_scaled:.2f}\")\n",
    "print(f\"F1 Score: {f1_scaled:.2f}\")\n",
    "print(f\"Recall: {recall_scaled:.2f}\")\n",
    "print(f\"Precision: {precision_scaled:.2f}\")\n",
    "print(\"\\nСравнение с бейзлайном:\")\n",
    "print(f\"Разница в Accuracy: {accuracy_scaled - accuracy:.2f}\")\n",
    "print(f\"Разница в F1 Score: {f1_scaled - f1:.2f}\")"
   ]
  },
  {
   "cell_type": "markdown",
   "metadata": {},
   "source": [
    "2. Формирование новых признаков"
   ]
  },
  {
   "cell_type": "code",
   "execution_count": 7,
   "metadata": {},
   "outputs": [
    {
     "name": "stdout",
     "output_type": "stream",
     "text": [
      "Улучшение: добавление нового признака (AgeInDays)\n",
      "Accuracy: 0.73\n",
      "F1 Score: 0.67\n",
      "\n",
      "Сравнение с бейзлайном:\n",
      "Разница в Accuracy: 0.00\n",
      "Разница в F1 Score: 0.00\n"
     ]
    }
   ],
   "source": [
    "# Создание нового признака: возраст животного в днях\n",
    "def age_in_days(age_str):\n",
    "    if isinstance(age_str, str):\n",
    "        num, unit = age_str.split()\n",
    "        num = int(num)\n",
    "        if 'year' in unit:\n",
    "            return num * 365\n",
    "        elif 'month' in unit:\n",
    "            return num * 30\n",
    "        elif 'week' in unit:\n",
    "            return num * 7\n",
    "        elif 'day' in unit:\n",
    "            return num\n",
    "    return 0\n",
    "\n",
    "X_shelter['AgeInDays'] = shelter_data['AgeuponOutcome'].apply(age_in_days)\n",
    "\n",
    "# Бинарное кодирование типа животного\n",
    "X_shelter['IsDog'] = (shelter_data['AnimalType'] == 'Dog').astype(int)\n",
    "\n",
    "# Обновляем обучающую и тестовую выборки\n",
    "X_train_shelter, X_test_shelter, y_train_shelter, y_test_shelter = train_test_split(\n",
    "    X_shelter, y_shelter, test_size=0.2, random_state=42\n",
    ")\n",
    "\n",
    "imputer = SimpleImputer(strategy='most_frequent')\n",
    "X_shelter = pd.DataFrame(imputer.fit_transform(X_shelter), columns=X_shelter.columns)\n",
    "\n",
    "# Кодируем категориальные признаки\n",
    "X_shelter = pd.get_dummies(X_shelter, drop_first=True)\n",
    "\n",
    "# Разделение на обучающую и тестовую выборки\n",
    "X_train_shelter, X_test_shelter, y_train_shelter, y_test_shelter = train_test_split(\n",
    "    X_shelter, y_shelter, test_size=0.2, random_state=42\n",
    ")\n",
    "\n",
    "# Масштабирование данных\n",
    "scaler_shelter = StandardScaler()\n",
    "X_train_shelter_scaled = scaler_shelter.fit_transform(X_train_shelter)\n",
    "X_test_shelter_scaled = scaler_shelter.transform(X_test_shelter)\n",
    "\n",
    "# Обучение модели\n",
    "knn_clf = KNeighborsClassifier(n_neighbors=5)\n",
    "knn_clf.fit(X_train_shelter, y_train_shelter)\n",
    "\n",
    "# Предсказание и метрики\n",
    "y_pred_shelter_new_feature = knn_clf.predict(X_test_shelter)\n",
    "accuracy_new_feature = accuracy_score(y_test_shelter, y_pred_shelter_new_feature)\n",
    "f1_new_feature = f1_score(y_test_shelter, y_pred_shelter_new_feature)\n",
    "\n",
    "# Вывод результатов\n",
    "print(\"Улучшение: добавление нового признака (AgeInDays)\")\n",
    "print(f\"Accuracy: {accuracy_new_feature:.2f}\")\n",
    "print(f\"F1 Score: {f1_new_feature:.2f}\")\n",
    "print(\"\\nСравнение с бейзлайном:\")\n",
    "print(f\"Разница в Accuracy: {accuracy_new_feature - accuracy:.2f}\")\n",
    "print(f\"Разница в F1 Score: {f1_new_feature - f1:.2f}\")"
   ]
  },
  {
   "cell_type": "markdown",
   "metadata": {},
   "source": [
    "3. Подбор гиперпараметров"
   ]
  },
  {
   "cell_type": "code",
   "execution_count": 19,
   "metadata": {},
   "outputs": [
    {
     "name": "stdout",
     "output_type": "stream",
     "text": [
      "Лучшие параметры: {'n_neighbors': 3, 'weights': 'distance'}\n",
      "Лучшая кросс-валидация: 0.61\n",
      "\n",
      "Улучшение: подбор гиперпараметров (Grid Search)\n",
      "Accuracy: 0.62\n",
      "F1 Score: 0.69\n",
      "Recall: 0.61\n",
      "Precision: 0.63\n",
      "\n",
      "Сравнение с бейзлайном:\n",
      "Разница в Accuracy: 0.00\n",
      "Разница в F1 Score: 0.00\n"
     ]
    }
   ],
   "source": [
    "# Масштабирование данных\n",
    "scaler = StandardScaler()\n",
    "X_train_shelter = scaler.fit_transform(X_train_house)\n",
    "X_test_shelter = scaler.transform(X_test_house)\n",
    "\n",
    "# Определяем сетку гиперпараметров\n",
    "param_grid = {\n",
    "    'n_neighbors': range(1, 5),\n",
    "    'weights': ['uniform', 'distance']\n",
    "}\n",
    "\n",
    "# Grid Search с 5-кратной кросс-валидацией\n",
    "grid_search = GridSearchCV(KNeighborsClassifier(), param_grid, cv=5, scoring='f1')\n",
    "grid_search.fit(X_train_shelter_scaled, y_train_shelter)\n",
    "\n",
    "# Лучшие параметры и их оценка\n",
    "best_knn = grid_search.best_estimator_\n",
    "best_params = grid_search.best_params_\n",
    "best_score = grid_search.best_score_\n",
    "\n",
    "print(f\"Лучшие параметры: {best_params}\")\n",
    "print(f\"Лучшая кросс-валидация: {best_score:.2f}\")\n",
    "print()\n",
    "\n",
    "# Предсказание с лучшими параметрами\n",
    "y_pred_best = best_knn.predict(X_test_shelter_scaled)\n",
    "\n",
    "accuracy_best = accuracy_score(y_test_shelter, y_pred_best)\n",
    "f1_best = f1_score(y_test_shelter, y_pred_best)\n",
    "recall_best = recall_score(y_test_shelter, y_pred_best)\n",
    "precision_best = precision_score(y_test_shelter, y_pred_best)\n",
    "\n",
    "print(\"Улучшение: подбор гиперпараметров (Grid Search)\")\n",
    "print(f\"Accuracy: {f1_best:.2f}\")\n",
    "print(f\"F1 Score: {accuracy_best:.2f}\")\n",
    "print(f\"Recall: {recall_best:.2f}\")\n",
    "print(f\"Precision: {precision_best:.2f}\")\n",
    "\n",
    "print(\"\\nСравнение с бейзлайном:\")\n",
    "print(f\"Разница в Accuracy: {accuracy_new_feature - accuracy:.2f}\")\n",
    "print(f\"Разница в F1 Score: {f1_new_feature - f1:.2f}\")\n"
   ]
  },
  {
   "cell_type": "markdown",
   "metadata": {},
   "source": [
    "### b.2 Проверка гипотез для задачи регрессии"
   ]
  },
  {
   "cell_type": "markdown",
   "metadata": {},
   "source": [
    "1. Улучшение предобработки данных (масштабирование и нормализация)"
   ]
  },
  {
   "cell_type": "code",
   "execution_count": 50,
   "metadata": {},
   "outputs": [
    {
     "name": "stdout",
     "output_type": "stream",
     "text": [
      "Улучшение: масштабирование\n",
      "Mean Absolute Error (MAE): 141565.02\n",
      "Mean Squared Error (MSE): 51714426150.63\n",
      "R-squared (R^2): 0.66\n",
      "\n",
      "Сравнение с бейзлайном:\n",
      "Разница в MAE: -280.61\n",
      "Разница в MSE: -286049963.76\n",
      "Разница в R^2: 0.00\n"
     ]
    }
   ],
   "source": [
    "# Масштабирование данных\n",
    "scaler = StandardScaler()\n",
    "X_train_house_scaled = scaler.fit_transform(X_train_house)\n",
    "X_test_house_scaled = scaler.transform(X_test_house)\n",
    "\n",
    "# Обучение модели\n",
    "knn_reg = KNeighborsRegressor(n_neighbors=5)\n",
    "knn_reg.fit(X_train_house_scaled, y_train_house)\n",
    "\n",
    "# Предсказание и метрики\n",
    "y_pred_house_scaled = knn_reg.predict(X_test_house_scaled)\n",
    "mae_scaled = mean_absolute_error(y_test_house, y_pred_house_scaled)\n",
    "mse_scaled = mean_squared_error(y_test_house, y_pred_house_scaled)\n",
    "r2_scaled = r2_score(y_test_house, y_pred_house_scaled)\n",
    "\n",
    "# Вывод результатов\n",
    "print(\"Улучшение: масштабирование\")\n",
    "print(f\"Mean Absolute Error (MAE): {mae_scaled:.2f}\")\n",
    "print(f\"Mean Squared Error (MSE): {mse_scaled:.2f}\")\n",
    "print(f\"R-squared (R^2): {r2_scaled:.2f}\")\n",
    "print(\"\\nСравнение с бейзлайном:\")\n",
    "print(f\"Разница в MAE: {mae_scaled - mae:.2f}\")\n",
    "print(f\"Разница в MSE: {mse_scaled - mse:.2f}\")\n",
    "print(f\"Разница в R^2: {r2_scaled - r2:.2f}\")"
   ]
  },
  {
   "cell_type": "markdown",
   "metadata": {},
   "source": [
    "2. Формирование новых признаков"
   ]
  },
  {
   "cell_type": "code",
   "execution_count": null,
   "metadata": {},
   "outputs": [
    {
     "name": "stdout",
     "output_type": "stream",
     "text": [
      "Улучшение: добавление нового признака (total_area)\n",
      "Mean Absolute Error (MAE): 131738.85\n",
      "Mean Squared  Error (MSE): 48977178393.78\n",
      "R-squared (R^2): 0.68\n",
      "\n",
      "Сравнение с бейзлайном:\n",
      "Разница в MAE: -10106.78\n",
      "Разница в MSE: -3023297720.62\n",
      "Разница в R^2: 0.02\n"
     ]
    }
   ],
   "source": [
    "# Создание нового признака: общая площадь дома\n",
    "X_house['total_area'] = X_house['sqft_living'] + X_house['sqft_basement']\n",
    "\n",
    "# Обновляем данные\n",
    "X_train_house, X_test_house, y_train_house, y_test_house = train_test_split(\n",
    "    X_house, y_house, test_size=0.2, random_state=42\n",
    ")\n",
    "\n",
    "# Масштабирование данных\n",
    "scaler = StandardScaler()\n",
    "X_train_house_scaled = scaler.fit_transform(X_train_house)\n",
    "X_test_house_scaled = scaler.transform(X_test_house)\n",
    "\n",
    "# Обучение модели\n",
    "knn_reg = KNeighborsRegressor(n_neighbors=5)\n",
    "knn_reg.fit(X_train_house_scaled, y_train_house)\n",
    "\n",
    "# Предсказание и метрики\n",
    "y_pred_house_new_feature = knn_reg.predict(X_test_house_scaled)\n",
    "mae_new_feature = mean_absolute_error(y_test_house, y_pred_house_new_feature)\n",
    "mse_new_feature = mean_squared_error(y_test_house, y_pred_house_new_feature)\n",
    "r2_new_feature = r2_score(y_test_house, y_pred_house_new_feature)\n",
    "\n",
    "# Вывод результатов\n",
    "print(\"Улучшение: добавление нового признака (total_area)\")\n",
    "print(f\"Mean Absolute Error (MAE): {mae_new_feature:.2f}\")\n",
    "print(f\"Mean Squared  Error (MSE): {mse_new_feature:.2f}\")\n",
    "print(f\"R-squared (R^2): {r2_new_feature:.2f}\")\n",
    "print(\"\\nСравнение с бейзлайном:\")\n",
    "print(f\"Разница в MAE: {mae_new_feature - mae:.2f}\")\n",
    "print(f\"Разница в MSE: {mse_new_feature - mse:.2f}\")\n",
    "print(f\"Разница в R^2: {r2_new_feature - r2:.2f}\")"
   ]
  },
  {
   "cell_type": "markdown",
   "metadata": {},
   "source": [
    "3. Подбор гиперпараметров"
   ]
  },
  {
   "cell_type": "code",
   "execution_count": 20,
   "metadata": {},
   "outputs": [
    {
     "name": "stdout",
     "output_type": "stream",
     "text": [
      "Лучшие параметры:  {'metric': 'manhattan', 'n_neighbors': 4, 'weights': 'distance'}\n",
      "Лучшая кросс-валидация:  0.6979072939015201\n",
      "\n",
      "Улучшение: подбор гиперпараметров (Grid Search)\n",
      "Mean Absolute Error (MAE): 127483.20\n",
      "R-squared (R^2): 0.68\n",
      "\n",
      "Сравнение с бейзлайном:\n",
      "Разница в MAE: -14362.43\n",
      "Разница в R^2: 0.02\n"
     ]
    }
   ],
   "source": [
    "# Масштабирование данных\n",
    "scaler = StandardScaler()\n",
    "X_train_house = scaler.fit_transform(X_train_house)\n",
    "X_test_house = scaler.transform(X_test_house)\n",
    "\n",
    "# Подбор гиперпараметров\n",
    "param_grid = {\n",
    "    'n_neighbors': range(1, 5),\n",
    "    'weights': ['uniform', 'distance'],\n",
    "    'metric': ['manhattan', 'euclidean']\n",
    "}\n",
    "\n",
    "grid_search = GridSearchCV(KNeighborsRegressor(), param_grid, cv=5)\n",
    "grid_search.fit(X_train_house, y_train_house)\n",
    "\n",
    "print(\"Лучшие параметры: \", grid_search.best_params_)\n",
    "print(\"Лучшая кросс-валидация: \", grid_search.best_score_)\n",
    "print()\n",
    "\n",
    "# Лучшие параметры и метрики\n",
    "best_reg = grid_search.best_estimator_\n",
    "y_pred_house_gs = best_reg.predict(X_test_house)\n",
    "mae_gs = mean_absolute_error(y_test_house, y_pred_house_gs)\n",
    "r2_gs = r2_score(y_test_house, y_pred_house_gs)\n",
    "\n",
    "print(\"Улучшение: подбор гиперпараметров (Grid Search)\")\n",
    "print(f\"Mean Absolute Error (MAE): {mae_gs:.2f}\")\n",
    "print(f\"R-squared (R^2): {r2_gs:.2f}\")\n",
    "print(\"\\nСравнение с бейзлайном:\")\n",
    "print(f\"Разница в MAE: {mae_gs - mae:.2f}\")\n",
    "print(f\"Разница в R^2: {r2_gs - r2:.2f}\")"
   ]
  },
  {
   "cell_type": "markdown",
   "metadata": {},
   "source": [
    "### c. Формирование улучшенного бейзлайна"
   ]
  },
  {
   "cell_type": "markdown",
   "metadata": {},
   "source": [
    "В улучшенном бейзлайне для классификации добавим масштабирование, 'n_neighbors': 3, 'weights': 'distance'\n",
    "\n",
    "В улучшенном бейзлайне для регрессии добавим масштабирование, 'metric': 'manhattan', 'n_neighbors': 4, 'weights': 'distance'"
   ]
  },
  {
   "cell_type": "markdown",
   "metadata": {},
   "source": [
    "Классификация"
   ]
  },
  {
   "cell_type": "code",
   "execution_count": 101,
   "metadata": {},
   "outputs": [],
   "source": [
    "# Загрузка данных\n",
    "shelter_data = pd.read_csv('./shelter_animal_outcomes/train.csv')\n",
    "\n",
    "# Создаём целевую переменную для бинарной классификации: \"произойдёт ли усыновление\"\n",
    "shelter_data['IsAdopted'] = shelter_data['OutcomeType'].apply(lambda x: 1 if x == 'Adoption' else 0)\n",
    "\n",
    "# Удаляем ненужные столбцы\n",
    "X_shelter = shelter_data.drop(columns=['AnimalID', 'Name', 'DateTime', 'OutcomeType', 'IsAdopted'])\n",
    "y_shelter = shelter_data['IsAdopted']\n",
    "\n",
    "# Обработка пропущенных значений\n",
    "imputer = SimpleImputer(strategy='most_frequent')\n",
    "X_shelter = pd.DataFrame(imputer.fit_transform(X_shelter), columns=X_shelter.columns)\n",
    "\n",
    "# Кодируем категориальные признаки\n",
    "X_shelter = pd.get_dummies(X_shelter, drop_first=True)\n",
    "\n",
    "# Разделение на обучающую и тестовую выборки\n",
    "X_train_shelter, X_test_shelter, y_train_shelter, y_test_shelter = train_test_split(\n",
    "    X_shelter, y_shelter, test_size=0.2, random_state=42\n",
    ")\n",
    "\n",
    "# Масштабирование\n",
    "scaler_shelter = StandardScaler()\n",
    "X_train_shelter = scaler_shelter.fit_transform(X_train_shelter)\n",
    "X_test_shelter = scaler_shelter.transform(X_test_shelter)\n",
    "\n",
    "knn_clf = KNeighborsClassifier(n_neighbors=3, weights=\"distance\")"
   ]
  },
  {
   "cell_type": "markdown",
   "metadata": {},
   "source": [
    "Регрессия"
   ]
  },
  {
   "cell_type": "code",
   "execution_count": 29,
   "metadata": {},
   "outputs": [],
   "source": [
    "# Загрузка данных\n",
    "house_data = pd.read_csv('./kc_house_data/kc_house_data.csv')\n",
    "\n",
    "# Удаляем строки с пропущенными значениями в целевой переменной\n",
    "house_data = house_data.dropna(subset=['price'])\n",
    "\n",
    "# Выбираем дополнительные признаки\n",
    "selected_features = [\n",
    "    'sqft_living', 'bedrooms', 'bathrooms', 'floors', \n",
    "    'sqft_lot', 'waterfront', 'view', 'condition', \n",
    "    'grade', 'sqft_above', 'sqft_basement', 'yr_built'\n",
    "]\n",
    "\n",
    "# Выбираем признаки и целевую переменную\n",
    "X_house = house_data[selected_features]  # Признаки\n",
    "y_house = house_data['price']  # Целевая переменная\n",
    "\n",
    "# Обработка пропущенных значений для X_house (если есть)\n",
    "imputer = SimpleImputer(strategy='mean')\n",
    "X_house = pd.DataFrame(imputer.fit_transform(X_house), columns=X_house.columns)\n",
    "\n",
    "# Нормализация числовых признаков (важно для KNN)\n",
    "scaler = StandardScaler()\n",
    "X_house_scaled = pd.DataFrame(scaler.fit_transform(X_house), columns=X_house.columns)\n",
    "\n",
    "# Делим на обучающую и тестовую выборки\n",
    "X_train_house, X_test_house, y_train_house, y_test_house = train_test_split(\n",
    "    X_house_scaled, y_house, test_size=0.2, random_state=42\n",
    ")\n",
    "\n",
    "# Масштабирование данных\n",
    "scaler = StandardScaler()\n",
    "X_train_house = scaler.fit_transform(X_train_house)\n",
    "X_test_house = scaler.transform(X_test_house)\n",
    "\n",
    "knn_reg = KNeighborsRegressor(n_neighbors=4, weights=\"distance\", metric=\"manhattan\")"
   ]
  },
  {
   "cell_type": "markdown",
   "metadata": {},
   "source": [
    "d. Обучение модели с улучшенным бейзлайном "
   ]
  },
  {
   "cell_type": "markdown",
   "metadata": {},
   "source": [
    "Классификация"
   ]
  },
  {
   "cell_type": "code",
   "execution_count": 102,
   "metadata": {},
   "outputs": [
    {
     "data": {
      "text/html": [
       "<style>#sk-container-id-6 {color: black;background-color: white;}#sk-container-id-6 pre{padding: 0;}#sk-container-id-6 div.sk-toggleable {background-color: white;}#sk-container-id-6 label.sk-toggleable__label {cursor: pointer;display: block;width: 100%;margin-bottom: 0;padding: 0.3em;box-sizing: border-box;text-align: center;}#sk-container-id-6 label.sk-toggleable__label-arrow:before {content: \"▸\";float: left;margin-right: 0.25em;color: #696969;}#sk-container-id-6 label.sk-toggleable__label-arrow:hover:before {color: black;}#sk-container-id-6 div.sk-estimator:hover label.sk-toggleable__label-arrow:before {color: black;}#sk-container-id-6 div.sk-toggleable__content {max-height: 0;max-width: 0;overflow: hidden;text-align: left;background-color: #f0f8ff;}#sk-container-id-6 div.sk-toggleable__content pre {margin: 0.2em;color: black;border-radius: 0.25em;background-color: #f0f8ff;}#sk-container-id-6 input.sk-toggleable__control:checked~div.sk-toggleable__content {max-height: 200px;max-width: 100%;overflow: auto;}#sk-container-id-6 input.sk-toggleable__control:checked~label.sk-toggleable__label-arrow:before {content: \"▾\";}#sk-container-id-6 div.sk-estimator input.sk-toggleable__control:checked~label.sk-toggleable__label {background-color: #d4ebff;}#sk-container-id-6 div.sk-label input.sk-toggleable__control:checked~label.sk-toggleable__label {background-color: #d4ebff;}#sk-container-id-6 input.sk-hidden--visually {border: 0;clip: rect(1px 1px 1px 1px);clip: rect(1px, 1px, 1px, 1px);height: 1px;margin: -1px;overflow: hidden;padding: 0;position: absolute;width: 1px;}#sk-container-id-6 div.sk-estimator {font-family: monospace;background-color: #f0f8ff;border: 1px dotted black;border-radius: 0.25em;box-sizing: border-box;margin-bottom: 0.5em;}#sk-container-id-6 div.sk-estimator:hover {background-color: #d4ebff;}#sk-container-id-6 div.sk-parallel-item::after {content: \"\";width: 100%;border-bottom: 1px solid gray;flex-grow: 1;}#sk-container-id-6 div.sk-label:hover label.sk-toggleable__label {background-color: #d4ebff;}#sk-container-id-6 div.sk-serial::before {content: \"\";position: absolute;border-left: 1px solid gray;box-sizing: border-box;top: 0;bottom: 0;left: 50%;z-index: 0;}#sk-container-id-6 div.sk-serial {display: flex;flex-direction: column;align-items: center;background-color: white;padding-right: 0.2em;padding-left: 0.2em;position: relative;}#sk-container-id-6 div.sk-item {position: relative;z-index: 1;}#sk-container-id-6 div.sk-parallel {display: flex;align-items: stretch;justify-content: center;background-color: white;position: relative;}#sk-container-id-6 div.sk-item::before, #sk-container-id-6 div.sk-parallel-item::before {content: \"\";position: absolute;border-left: 1px solid gray;box-sizing: border-box;top: 0;bottom: 0;left: 50%;z-index: -1;}#sk-container-id-6 div.sk-parallel-item {display: flex;flex-direction: column;z-index: 1;position: relative;background-color: white;}#sk-container-id-6 div.sk-parallel-item:first-child::after {align-self: flex-end;width: 50%;}#sk-container-id-6 div.sk-parallel-item:last-child::after {align-self: flex-start;width: 50%;}#sk-container-id-6 div.sk-parallel-item:only-child::after {width: 0;}#sk-container-id-6 div.sk-dashed-wrapped {border: 1px dashed gray;margin: 0 0.4em 0.5em 0.4em;box-sizing: border-box;padding-bottom: 0.4em;background-color: white;}#sk-container-id-6 div.sk-label label {font-family: monospace;font-weight: bold;display: inline-block;line-height: 1.2em;}#sk-container-id-6 div.sk-label-container {text-align: center;}#sk-container-id-6 div.sk-container {/* jupyter's `normalize.less` sets `[hidden] { display: none; }` but bootstrap.min.css set `[hidden] { display: none !important; }` so we also need the `!important` here to be able to override the default hidden behavior on the sphinx rendered scikit-learn.org. See: https://github.com/scikit-learn/scikit-learn/issues/21755 */display: inline-block !important;position: relative;}#sk-container-id-6 div.sk-text-repr-fallback {display: none;}</style><div id=\"sk-container-id-6\" class=\"sk-top-container\"><div class=\"sk-text-repr-fallback\"><pre>KNeighborsClassifier(n_neighbors=3, weights=&#x27;distance&#x27;)</pre><b>In a Jupyter environment, please rerun this cell to show the HTML representation or trust the notebook. <br />On GitHub, the HTML representation is unable to render, please try loading this page with nbviewer.org.</b></div><div class=\"sk-container\" hidden><div class=\"sk-item\"><div class=\"sk-estimator sk-toggleable\"><input class=\"sk-toggleable__control sk-hidden--visually\" id=\"sk-estimator-id-6\" type=\"checkbox\" checked><label for=\"sk-estimator-id-6\" class=\"sk-toggleable__label sk-toggleable__label-arrow\">KNeighborsClassifier</label><div class=\"sk-toggleable__content\"><pre>KNeighborsClassifier(n_neighbors=3, weights=&#x27;distance&#x27;)</pre></div></div></div></div></div>"
      ],
      "text/plain": [
       "KNeighborsClassifier(n_neighbors=3, weights='distance')"
      ]
     },
     "execution_count": 102,
     "metadata": {},
     "output_type": "execute_result"
    }
   ],
   "source": [
    "knn_clf.fit(X_train_shelter, y_train_shelter)"
   ]
  },
  {
   "cell_type": "markdown",
   "metadata": {},
   "source": [
    "Регрессия"
   ]
  },
  {
   "cell_type": "code",
   "execution_count": 30,
   "metadata": {},
   "outputs": [
    {
     "data": {
      "text/html": [
       "<style>#sk-container-id-3 {color: black;background-color: white;}#sk-container-id-3 pre{padding: 0;}#sk-container-id-3 div.sk-toggleable {background-color: white;}#sk-container-id-3 label.sk-toggleable__label {cursor: pointer;display: block;width: 100%;margin-bottom: 0;padding: 0.3em;box-sizing: border-box;text-align: center;}#sk-container-id-3 label.sk-toggleable__label-arrow:before {content: \"▸\";float: left;margin-right: 0.25em;color: #696969;}#sk-container-id-3 label.sk-toggleable__label-arrow:hover:before {color: black;}#sk-container-id-3 div.sk-estimator:hover label.sk-toggleable__label-arrow:before {color: black;}#sk-container-id-3 div.sk-toggleable__content {max-height: 0;max-width: 0;overflow: hidden;text-align: left;background-color: #f0f8ff;}#sk-container-id-3 div.sk-toggleable__content pre {margin: 0.2em;color: black;border-radius: 0.25em;background-color: #f0f8ff;}#sk-container-id-3 input.sk-toggleable__control:checked~div.sk-toggleable__content {max-height: 200px;max-width: 100%;overflow: auto;}#sk-container-id-3 input.sk-toggleable__control:checked~label.sk-toggleable__label-arrow:before {content: \"▾\";}#sk-container-id-3 div.sk-estimator input.sk-toggleable__control:checked~label.sk-toggleable__label {background-color: #d4ebff;}#sk-container-id-3 div.sk-label input.sk-toggleable__control:checked~label.sk-toggleable__label {background-color: #d4ebff;}#sk-container-id-3 input.sk-hidden--visually {border: 0;clip: rect(1px 1px 1px 1px);clip: rect(1px, 1px, 1px, 1px);height: 1px;margin: -1px;overflow: hidden;padding: 0;position: absolute;width: 1px;}#sk-container-id-3 div.sk-estimator {font-family: monospace;background-color: #f0f8ff;border: 1px dotted black;border-radius: 0.25em;box-sizing: border-box;margin-bottom: 0.5em;}#sk-container-id-3 div.sk-estimator:hover {background-color: #d4ebff;}#sk-container-id-3 div.sk-parallel-item::after {content: \"\";width: 100%;border-bottom: 1px solid gray;flex-grow: 1;}#sk-container-id-3 div.sk-label:hover label.sk-toggleable__label {background-color: #d4ebff;}#sk-container-id-3 div.sk-serial::before {content: \"\";position: absolute;border-left: 1px solid gray;box-sizing: border-box;top: 0;bottom: 0;left: 50%;z-index: 0;}#sk-container-id-3 div.sk-serial {display: flex;flex-direction: column;align-items: center;background-color: white;padding-right: 0.2em;padding-left: 0.2em;position: relative;}#sk-container-id-3 div.sk-item {position: relative;z-index: 1;}#sk-container-id-3 div.sk-parallel {display: flex;align-items: stretch;justify-content: center;background-color: white;position: relative;}#sk-container-id-3 div.sk-item::before, #sk-container-id-3 div.sk-parallel-item::before {content: \"\";position: absolute;border-left: 1px solid gray;box-sizing: border-box;top: 0;bottom: 0;left: 50%;z-index: -1;}#sk-container-id-3 div.sk-parallel-item {display: flex;flex-direction: column;z-index: 1;position: relative;background-color: white;}#sk-container-id-3 div.sk-parallel-item:first-child::after {align-self: flex-end;width: 50%;}#sk-container-id-3 div.sk-parallel-item:last-child::after {align-self: flex-start;width: 50%;}#sk-container-id-3 div.sk-parallel-item:only-child::after {width: 0;}#sk-container-id-3 div.sk-dashed-wrapped {border: 1px dashed gray;margin: 0 0.4em 0.5em 0.4em;box-sizing: border-box;padding-bottom: 0.4em;background-color: white;}#sk-container-id-3 div.sk-label label {font-family: monospace;font-weight: bold;display: inline-block;line-height: 1.2em;}#sk-container-id-3 div.sk-label-container {text-align: center;}#sk-container-id-3 div.sk-container {/* jupyter's `normalize.less` sets `[hidden] { display: none; }` but bootstrap.min.css set `[hidden] { display: none !important; }` so we also need the `!important` here to be able to override the default hidden behavior on the sphinx rendered scikit-learn.org. See: https://github.com/scikit-learn/scikit-learn/issues/21755 */display: inline-block !important;position: relative;}#sk-container-id-3 div.sk-text-repr-fallback {display: none;}</style><div id=\"sk-container-id-3\" class=\"sk-top-container\"><div class=\"sk-text-repr-fallback\"><pre>KNeighborsRegressor(metric=&#x27;manhattan&#x27;, n_neighbors=4, weights=&#x27;distance&#x27;)</pre><b>In a Jupyter environment, please rerun this cell to show the HTML representation or trust the notebook. <br />On GitHub, the HTML representation is unable to render, please try loading this page with nbviewer.org.</b></div><div class=\"sk-container\" hidden><div class=\"sk-item\"><div class=\"sk-estimator sk-toggleable\"><input class=\"sk-toggleable__control sk-hidden--visually\" id=\"sk-estimator-id-3\" type=\"checkbox\" checked><label for=\"sk-estimator-id-3\" class=\"sk-toggleable__label sk-toggleable__label-arrow\">KNeighborsRegressor</label><div class=\"sk-toggleable__content\"><pre>KNeighborsRegressor(metric=&#x27;manhattan&#x27;, n_neighbors=4, weights=&#x27;distance&#x27;)</pre></div></div></div></div></div>"
      ],
      "text/plain": [
       "KNeighborsRegressor(metric='manhattan', n_neighbors=4, weights='distance')"
      ]
     },
     "execution_count": 30,
     "metadata": {},
     "output_type": "execute_result"
    }
   ],
   "source": [
    "knn_reg.fit(X_train_house, y_train_house)"
   ]
  },
  {
   "cell_type": "markdown",
   "metadata": {},
   "source": [
    "e. Оценка качества моделей с улучшенным бейзлайном "
   ]
  },
  {
   "cell_type": "markdown",
   "metadata": {},
   "source": [
    "Классификация"
   ]
  },
  {
   "cell_type": "code",
   "execution_count": 103,
   "metadata": {},
   "outputs": [
    {
     "name": "stdout",
     "output_type": "stream",
     "text": [
      "Accuracy_best: 0.68\n",
      "F1 Score: 0.62\n",
      "Recall: 0.61\n",
      "Precision: 0.62\n"
     ]
    }
   ],
   "source": [
    "# Предсказание\n",
    "y_pred_shelter_best = knn_clf.predict(X_test_shelter)\n",
    "\n",
    "# Метрики качества\n",
    "accuracy_best = accuracy_score(y_test_shelter, y_pred_shelter_best)\n",
    "f1_best = f1_score(y_test_shelter, y_pred_shelter_best)\n",
    "recall_best = recall_score(y_test_shelter, y_pred_shelter_best)\n",
    "precision_best = precision_score(y_test_shelter, y_pred_shelter_best)\n",
    "\n",
    "print(f\"Accuracy_best: {accuracy_best:.2f}\")\n",
    "print(f\"F1 Score: {f1_best:.2f}\")\n",
    "print(f\"Recall: {recall_best:.2f}\")\n",
    "print(f\"Precision: {precision_best:.2f}\")"
   ]
  },
  {
   "cell_type": "markdown",
   "metadata": {},
   "source": [
    "Регрессия"
   ]
  },
  {
   "cell_type": "code",
   "execution_count": 34,
   "metadata": {},
   "outputs": [
    {
     "name": "stdout",
     "output_type": "stream",
     "text": [
      "Mean Absolute Error (MAE): 141363.29525972577\n",
      "Mean Squared Error (MSE): 53212882813.68727\n",
      "R-squared (R^2): 0.648008730846878\n"
     ]
    }
   ],
   "source": [
    "# Предсказание\n",
    "y_pred_house_best = knn_reg.predict(X_test_house)\n",
    "\n",
    "# Метрики качества\n",
    "mae_best = mean_absolute_error(y_test_house, y_pred_house_best)\n",
    "mse_best = mean_squared_error(y_test_house, y_pred_house_best)\n",
    "r2_best = r2_score(y_test_house, y_pred_house_best)\n",
    "\n",
    "print(f\"Mean Absolute Error (MAE): {mae_best}\")\n",
    "print(f\"Mean Squared Error (MSE): {mse_best}\")\n",
    "print(f\"R-squared (R^2): {r2_best}\")"
   ]
  },
  {
   "cell_type": "markdown",
   "metadata": {},
   "source": [
    "### f. Сравнение результатов первоначального бейзлайна с улучшенным бейзлайном"
   ]
  },
  {
   "cell_type": "markdown",
   "metadata": {},
   "source": [
    "Классификация"
   ]
  },
  {
   "cell_type": "code",
   "execution_count": 35,
   "metadata": {},
   "outputs": [
    {
     "name": "stdout",
     "output_type": "stream",
     "text": [
      "Разница в accuracy: -0.04526748971193417\n",
      "Разница в F1 Score: -0.05207392849244874\n"
     ]
    }
   ],
   "source": [
    "print(f\"Разница в accuracy: {accuracy_best - accuracy}\")\n",
    "print(f\"Разница в F1 Score: {f1_best - f1}\")"
   ]
  },
  {
   "cell_type": "markdown",
   "metadata": {},
   "source": [
    "Регрессия"
   ]
  },
  {
   "cell_type": "code",
   "execution_count": 36,
   "metadata": {},
   "outputs": [
    {
     "name": "stdout",
     "output_type": "stream",
     "text": [
      "Разница в MAE: -482.33610738039715\n",
      "Разница в MSE: 1212406699.2880707\n",
      "Разница в R^2: -0.008019798030983294\n"
     ]
    }
   ],
   "source": [
    "print(f\"Разница в MAE: {mae_best - mae}\")\n",
    "print(f\"Разница в MSE: {mse_best - mse}\")\n",
    "print(f\"Разница в R^2: {r2_best - r2}\")"
   ]
  },
  {
   "cell_type": "markdown",
   "metadata": {},
   "source": [
    "### g. Выводы"
   ]
  },
  {
   "cell_type": "markdown",
   "metadata": {},
   "source": [
    "**Вывод по классификации:**\n",
    "\n",
    "Внедрение улучшений не дало положительного эффекта, а, напротив, совсем незначительно, но ухудшило качество модели\n",
    "\n",
    "**Вывод по регрессии:**\n",
    "\n",
    "Улучшения понизии MAE, немного повысили R^2, однако повысили MSE\n",
    "\n",
    "**Общие выводы:**:\n",
    "\n",
    "1. Масштабирование улучшает точность, так как делает все признаки равнозначными\n",
    "2. Оптимальная настройка гиперпараметров, таких как количество соседей, повышает качество модели, если сравнивать с настройками по умолчанию"
   ]
  },
  {
   "cell_type": "markdown",
   "metadata": {},
   "source": [
    "## 4. Имплементация алгоритма машинного обучения "
   ]
  },
  {
   "cell_type": "markdown",
   "metadata": {},
   "source": [
    "### a. Самостоятельная имплементация алгоритмов машинного обучения для классификации и регрессии"
   ]
  },
  {
   "cell_type": "markdown",
   "metadata": {},
   "source": [
    "KNN для классификации"
   ]
  },
  {
   "cell_type": "code",
   "execution_count": 48,
   "metadata": {},
   "outputs": [],
   "source": [
    "from scipy.spatial import distance\n",
    "from collections import Counter\n",
    "import numpy as np\n",
    "import pandas as pd\n",
    "\n",
    "\n",
    "class KNNClassifier:\n",
    "    def __init__(self, k=5):\n",
    "        \"\"\"\n",
    "        Инициализация классификатора K ближайших соседей.\n",
    "        :param k: количество соседей для голосования.\n",
    "        \"\"\"\n",
    "        self.k = k\n",
    "\n",
    "    def fit(self, X_train, y_train):\n",
    "        \"\"\"\n",
    "        Обучение модели — сохранение обучающих данных.\n",
    "        :param X_train: обучающие признаки (матрица NxM).\n",
    "        :param y_train: обучающие метки (вектор длины N).\n",
    "        \"\"\"\n",
    "        self.X_train = X_train.to_numpy() if isinstance(X_train, pd.DataFrame) else X_train\n",
    "        self.y_train = y_train.to_numpy() if isinstance(y_train, pd.Series) else y_train\n",
    "\n",
    "    def predict(self, X_test):\n",
    "        \"\"\"\n",
    "        Предсказание меток для тестовых данных.\n",
    "        :param X_test: тестовые признаки (матрица LxM).\n",
    "        :return: предсказанные метки для тестовых данных.\n",
    "        \"\"\"\n",
    "        X_test = X_test.to_numpy() if isinstance(X_test, pd.DataFrame) else X_test\n",
    "        \n",
    "        return np.array([self._predict(x) for x in X_test])\n",
    "\n",
    "    def _predict(self, x):\n",
    "        \"\"\"\n",
    "        Прогноз для одного примера.\n",
    "        :param x: тестовый пример (вектор длины M).\n",
    "        :return: предсказанная метка.\n",
    "        \"\"\"\n",
    "        distances = distance.cdist(self.X_train, [x], 'euclidean').flatten()\n",
    "        k_indices = np.argsort(distances)[:self.k]\n",
    "        k_nearest_labels = [self.y_train[i] for i in k_indices]\n",
    "        most_common = Counter(k_nearest_labels).most_common(1)\n",
    "\n",
    "        return most_common[0][0]"
   ]
  },
  {
   "cell_type": "markdown",
   "metadata": {},
   "source": [
    "KNN для регрессии"
   ]
  },
  {
   "cell_type": "code",
   "execution_count": 85,
   "metadata": {},
   "outputs": [],
   "source": [
    "class KNNRegressor:\n",
    "    def __init__(self, k=5, metric='euclidean', weights='uniform'):\n",
    "        \"\"\"\n",
    "        Инициализация регрессора K ближайших соседей.\n",
    "        \n",
    "        :param k: количество ближайших соседей.\n",
    "        :param metric: метрика расстояния ('euclidean', 'manhattan', и т.д.).\n",
    "        :param weights: схема взвешивания ('uniform' или 'distance').\n",
    "        \"\"\"\n",
    "        self.k = k\n",
    "        self.metric = metric\n",
    "        self.weights = weights\n",
    "\n",
    "    def fit(self, X_train, y_train):\n",
    "        \"\"\"\n",
    "        Обучение модели — сохранение обучающих данных.\n",
    "        \n",
    "        :param X_train: обучающие признаки (матрица NxM).\n",
    "        :param y_train: обучающие целевые значения (вектор длины N).\n",
    "        \"\"\"\n",
    "        self.X_train = X_train.to_numpy() if isinstance(X_train, pd.DataFrame) else np.array(X_train)\n",
    "        self.y_train = y_train.to_numpy() if isinstance(y_train, pd.Series) else np.array(y_train)\n",
    "\n",
    "    def predict(self, X_test):\n",
    "        \"\"\"\n",
    "        Предсказание целевых значений для тестовых данных.\n",
    "        \n",
    "        :param X_test: тестовые признаки (матрица LxM).\n",
    "        :return: массив предсказанных целевых значений.\n",
    "        \"\"\"\n",
    "        X_test = X_test.to_numpy() if isinstance(X_test, pd.DataFrame) else np.array(X_test)\n",
    "        \n",
    "        return np.array([self._predict(x) for x in X_test])\n",
    "\n",
    "    def _predict(self, x):\n",
    "        \"\"\"\n",
    "        Прогноз для одного примера.\n",
    "        \n",
    "        :param x: тестовый пример (вектор длины M).\n",
    "        :return: предсказанное значение.\n",
    "        \"\"\"\n",
    "        # Вычисление расстояний до всех точек обучающего набора\n",
    "        x = np.array(x).reshape(1, -1)\n",
    "        distances = distance.cdist(self.X_train, x, metric=self.metric).flatten()\n",
    "\n",
    "        # Определение индексов k ближайших соседей\n",
    "        k_indices = np.argsort(distances)[:self.k]\n",
    "        k_nearest_distances = distances[k_indices]\n",
    "        k_nearest_labels = self.y_train[k_indices]\n",
    "\n",
    "        # Взвешивание соседей\n",
    "        if self.weights == 'uniform':\n",
    "            # Равномерные веса: среднее значение\n",
    "            return np.mean(k_nearest_labels)\n",
    "        elif self.weights == 'distance':\n",
    "            # Взвешивание по обратному расстоянию\n",
    "            weights = 1 / (k_nearest_distances + 1e-10)  # Защита от деления на ноль\n",
    "\n",
    "            return np.dot(weights, k_nearest_labels) / np.sum(weights)\n",
    "        else:\n",
    "            raise ValueError(\"Параметр weights должен быть 'uniform' или 'distance'.\")"
   ]
  },
  {
   "cell_type": "markdown",
   "metadata": {},
   "source": [
    "### b. Обучение имплементированной модели"
   ]
  },
  {
   "cell_type": "markdown",
   "metadata": {},
   "source": [
    "Классификация"
   ]
  },
  {
   "cell_type": "code",
   "execution_count": null,
   "metadata": {},
   "outputs": [],
   "source": [
    "# Загрузка данных\n",
    "shelter_data = pd.read_csv('./shelter_animal_outcomes/train.csv')\n",
    "shelter_data = shelter_data.sample(frac=0.3, random_state=42)\n",
    "\n",
    "# Создаём целевую переменную для бинарной классификации: \"произойдёт ли усыновление\"\n",
    "shelter_data['IsAdopted'] = shelter_data['OutcomeType'].apply(lambda x: 1 if x == 'Adoption' else 0)\n",
    "\n",
    "# Удаляем ненужные столбцы\n",
    "X_shelter = shelter_data.drop(columns=['AnimalID', 'Name', 'DateTime', 'OutcomeType', 'IsAdopted'])\n",
    "y_shelter = shelter_data['IsAdopted']\n",
    "\n",
    "# Обработка пропущенных значений\n",
    "imputer = SimpleImputer(strategy='most_frequent')\n",
    "X_shelter = pd.DataFrame(imputer.fit_transform(X_shelter), columns=X_shelter.columns)\n",
    "\n",
    "# Кодируем категориальные признаки\n",
    "X_shelter = pd.get_dummies(X_shelter, drop_first=True)\n",
    "\n",
    "# Разделение на обучающую и тестовую выборки\n",
    "X_train_shelter, X_test_shelter, y_train_shelter, y_test_shelter = train_test_split(\n",
    "    X_shelter, y_shelter, test_size=0.2, random_state=42\n",
    ")\n",
    "\n",
    "knn_clf = KNNClassifier(k=5)\n",
    "knn_clf.fit(X_train_shelter, y_train_shelter)"
   ]
  },
  {
   "cell_type": "markdown",
   "metadata": {},
   "source": [
    "Регрессия"
   ]
  },
  {
   "cell_type": "code",
   "execution_count": 86,
   "metadata": {},
   "outputs": [],
   "source": [
    "# Загрузка данных\n",
    "house_data = pd.read_csv('./kc_house_data/kc_house_data.csv')\n",
    "\n",
    "# Удаляем строки с пропущенными значениями в целевой переменной\n",
    "house_data = house_data.dropna(subset=['price'])\n",
    "\n",
    "# Выбираем дополнительные признаки\n",
    "selected_features = [\n",
    "    'sqft_living', 'bedrooms', 'bathrooms', 'floors', \n",
    "    'sqft_lot', 'waterfront', 'view', 'condition', \n",
    "    'grade', 'sqft_above', 'sqft_basement', 'yr_built'\n",
    "]\n",
    "\n",
    "# Выбираем признаки и целевую переменную\n",
    "X_house = house_data[selected_features]  # Признаки\n",
    "y_house = house_data['price']  # Целевая переменная\n",
    "\n",
    "# Обработка пропущенных значений для X_house (если есть)\n",
    "imputer = SimpleImputer(strategy='mean')\n",
    "X_house = pd.DataFrame(imputer.fit_transform(X_house), columns=X_house.columns)\n",
    "\n",
    "# Нормализация числовых признаков (важно для KNN)\n",
    "scaler = StandardScaler()\n",
    "X_house_scaled = pd.DataFrame(scaler.fit_transform(X_house), columns=X_house.columns)\n",
    "\n",
    "# Делим на обучающую и тестовую выборки\n",
    "X_train_house, X_test_house, y_train_house, y_test_house = train_test_split(\n",
    "    X_house_scaled, y_house, test_size=0.2, random_state=42\n",
    ")\n",
    "\n",
    "knn_reg = KNNRegressor(k=5)\n",
    "knn_reg.fit(X_train_house, y_train_house)"
   ]
  },
  {
   "cell_type": "markdown",
   "metadata": {},
   "source": [
    "### c. Оценка качества имплементированных моделей"
   ]
  },
  {
   "cell_type": "markdown",
   "metadata": {},
   "source": [
    "Классификация"
   ]
  },
  {
   "cell_type": "code",
   "execution_count": 68,
   "metadata": {},
   "outputs": [
    {
     "name": "stdout",
     "output_type": "stream",
     "text": [
      "Accuracy: 0.74\n",
      "F1 Score: 0.69\n",
      "Recall: 0.70\n",
      "Precision: 0.68\n"
     ]
    },
    {
     "data": {
      "image/png": "[encoded data removed]",
      "text/plain": [
       "<Figure size 600x600 with 2 Axes>"
      ]
     },
     "metadata": {},
     "output_type": "display_data"
    }
   ],
   "source": [
    "# Предсказание\n",
    "y_pred_shelter = knn_clf.predict(X_test_shelter)\n",
    "\n",
    "# Метрики качества\n",
    "accuracy_2 = accuracy_score(y_test_shelter, y_pred_shelter)\n",
    "f1_2 = f1_score(y_test_shelter, y_pred_shelter)\n",
    "recall_2 = recall_score(y_test_shelter, y_pred_shelter)\n",
    "precision_2 = precision_score(y_test_shelter, y_pred_shelter)\n",
    "\n",
    "print(f\"Accuracy: {accuracy_2:.2f}\")\n",
    "print(f\"F1 Score: {f1_2:.2f}\")\n",
    "print(f\"Recall: {recall_2:.2f}\")\n",
    "print(f\"Precision: {precision_2:.2f}\")\n",
    "\n",
    "# Confusion Matrix\n",
    "conf_matrix = confusion_matrix(y_test_shelter, y_pred_shelter)\n",
    "\n",
    "# Визуализация Confusion Matrix\n",
    "plt.figure(figsize=(6, 6))\n",
    "sns.heatmap(conf_matrix, annot=True, fmt='d', cmap='Blues', xticklabels=['Not Adopted', 'Adopted'], yticklabels=['Not Adopted', 'Adopted'])\n",
    "plt.title('Confusion Matrix')\n",
    "plt.xlabel('Predicted')\n",
    "plt.ylabel('Actual')\n",
    "plt.show()"
   ]
  },
  {
   "cell_type": "markdown",
   "metadata": {},
   "source": [
    "Регрессия"
   ]
  },
  {
   "cell_type": "code",
   "execution_count": 81,
   "metadata": {},
   "outputs": [
    {
     "name": "stdout",
     "output_type": "stream",
     "text": [
      "Mean Absolute Error (MAE): 141818.0729123294\n",
      "Mean Squared Error (MSE): 51993851927.97934\n",
      "R-squared (R^2): 0.6560723463833553\n"
     ]
    }
   ],
   "source": [
    "# Предсказание\n",
    "y_pred_house = knn_reg.predict(X_test_house)\n",
    "\n",
    "# Метрики качества\n",
    "mae_2 = mean_absolute_error(y_test_house, y_pred_house)\n",
    "mse_2 = mean_squared_error(y_test_house, y_pred_house)\n",
    "r2_2 = r2_score(y_test_house, y_pred_house)\n",
    "\n",
    "print(f\"Mean Absolute Error (MAE): {mae_2}\")\n",
    "print(f\"Mean Squared Error (MSE): {mse_2}\")\n",
    "print(f\"R-squared (R^2): {r2_2}\")"
   ]
  },
  {
   "cell_type": "markdown",
   "metadata": {},
   "source": [
    "### d. Сравнение результатов первоначального бейзлайна и имплементированных моделей"
   ]
  },
  {
   "cell_type": "markdown",
   "metadata": {},
   "source": [
    "Классификация"
   ]
  },
  {
   "cell_type": "code",
   "execution_count": 82,
   "metadata": {},
   "outputs": [
    {
     "name": "stdout",
     "output_type": "stream",
     "text": [
      "Разница в accuracy: 0.010133429986574849\n",
      "Разница в F1 Score: 0.0223820894552601\n"
     ]
    }
   ],
   "source": [
    "print(f\"Разница в accuracy: {accuracy_2 - accuracy}\")\n",
    "print(f\"Разница в F1 Score: {f1_2 - f1}\")"
   ]
  },
  {
   "cell_type": "markdown",
   "metadata": {},
   "source": [
    "Регрессия"
   ]
  },
  {
   "cell_type": "code",
   "execution_count": 83,
   "metadata": {},
   "outputs": [
    {
     "name": "stdout",
     "output_type": "stream",
     "text": [
      "Разница в MAE: -27.558454776764847\n",
      "Разница в MSE: -6624186.41986084\n",
      "Разница в R^2: 4.381750549398156e-05\n"
     ]
    }
   ],
   "source": [
    "print(f\"Разница в MAE: {mae_2 - mae}\")\n",
    "print(f\"Разница в MSE: {mse_2 - mse}\")\n",
    "print(f\"Разница в R^2: {r2_2 - r2}\")"
   ]
  },
  {
   "cell_type": "markdown",
   "metadata": {},
   "source": [
    "### e. Выводы"
   ]
  },
  {
   "cell_type": "markdown",
   "metadata": {},
   "source": [
    "Точность имплементированной модели для задачи классификации оказалась лучше, чем для встроенной модели\n",
    "\n",
    "Ошибки имплементированной модели относительно немного уменьшились, R^2 остался практически идентичным"
   ]
  },
  {
   "cell_type": "markdown",
   "metadata": {},
   "source": [
    "### f. Добавление техник из улучшенного бейзлайна"
   ]
  },
  {
   "cell_type": "markdown",
   "metadata": {},
   "source": [
    "Классификация"
   ]
  },
  {
   "cell_type": "code",
   "execution_count": null,
   "metadata": {},
   "outputs": [],
   "source": [
    "# Загрузка данных\n",
    "shelter_data = pd.read_csv('./shelter_animal_outcomes/train.csv')\n",
    "shelter_data = shelter_data.sample(frac=0.3, random_state=42)\n",
    "\n",
    "# Создаём целевую переменную для бинарной классификации: \"произойдёт ли усыновление\"\n",
    "shelter_data['IsAdopted'] = shelter_data['OutcomeType'].apply(lambda x: 1 if x == 'Adoption' else 0)\n",
    "\n",
    "# Удаляем ненужные столбцы\n",
    "X_shelter = shelter_data.drop(columns=['AnimalID', 'Name', 'DateTime', 'OutcomeType', 'IsAdopted'])\n",
    "y_shelter = shelter_data['IsAdopted']\n",
    "\n",
    "# Обработка пропущенных значений\n",
    "imputer = SimpleImputer(strategy='most_frequent')\n",
    "X_shelter = pd.DataFrame(imputer.fit_transform(X_shelter), columns=X_shelter.columns)\n",
    "\n",
    "# Кодируем категориальные признаки\n",
    "X_shelter = pd.get_dummies(X_shelter, drop_first=True)\n",
    "\n",
    "# Разделение на обучающую и тестовую выборки\n",
    "X_train_shelter, X_test_shelter, y_train_shelter, y_test_shelter = train_test_split(\n",
    "    X_shelter, y_shelter, test_size=0.2, random_state=42\n",
    ")\n",
    "\n",
    "# Масштабирование\n",
    "scaler_shelter = StandardScaler()\n",
    "X_train_shelter = scaler_shelter.fit_transform(X_train_shelter)\n",
    "X_test_shelter = scaler_shelter.transform(X_test_shelter)\n",
    "\n",
    "knn_clf = KNNClassifier(k=3)"
   ]
  },
  {
   "cell_type": "markdown",
   "metadata": {},
   "source": [
    "Регрессия"
   ]
  },
  {
   "cell_type": "code",
   "execution_count": 93,
   "metadata": {},
   "outputs": [],
   "source": [
    "# Загрузка данных\n",
    "house_data = pd.read_csv('./kc_house_data/kc_house_data.csv')\n",
    "\n",
    "# Удаляем строки с пропущенными значениями в целевой переменной\n",
    "house_data = house_data.dropna(subset=['price'])\n",
    "\n",
    "# Выбираем дополнительные признаки\n",
    "selected_features = [\n",
    "    'sqft_living', 'bedrooms', 'bathrooms', 'floors', \n",
    "    'sqft_lot', 'waterfront', 'view', 'condition', \n",
    "    'grade', 'sqft_above', 'sqft_basement', 'yr_built'\n",
    "]\n",
    "\n",
    "# Выбираем признаки и целевую переменную\n",
    "X_house = house_data[selected_features]  # Признаки\n",
    "y_house = house_data['price']  # Целевая переменная\n",
    "\n",
    "# Обработка пропущенных значений для X_house (если есть)\n",
    "imputer = SimpleImputer(strategy='mean')\n",
    "X_house = pd.DataFrame(imputer.fit_transform(X_house), columns=X_house.columns)\n",
    "\n",
    "# Нормализация числовых признаков (важно для KNN)\n",
    "scaler = StandardScaler()\n",
    "X_house_scaled = pd.DataFrame(scaler.fit_transform(X_house), columns=X_house.columns)\n",
    "\n",
    "# Делим на обучающую и тестовую выборки\n",
    "X_train_house, X_test_house, y_train_house, y_test_house = train_test_split(\n",
    "    X_house_scaled, y_house, test_size=0.2, random_state=42\n",
    ")\n",
    "\n",
    "# Масштабирование данных\n",
    "scaler = StandardScaler()\n",
    "X_train_house = scaler.fit_transform(X_train_house)\n",
    "X_test_house = scaler.transform(X_test_house)\n",
    "\n",
    "knn_reg = KNNRegressor(k=4, weights=\"distance\", metric=\"cityblock\")"
   ]
  },
  {
   "cell_type": "markdown",
   "metadata": {},
   "source": [
    "### g. Обучение на улучшенном бейзлайне"
   ]
  },
  {
   "cell_type": "markdown",
   "metadata": {},
   "source": [
    "Классификация"
   ]
  },
  {
   "cell_type": "code",
   "execution_count": 89,
   "metadata": {},
   "outputs": [],
   "source": [
    "knn_clf.fit(X_train_shelter, y_train_shelter)"
   ]
  },
  {
   "cell_type": "markdown",
   "metadata": {},
   "source": [
    "Регрессия"
   ]
  },
  {
   "cell_type": "code",
   "execution_count": 94,
   "metadata": {},
   "outputs": [],
   "source": [
    "knn_reg.fit(X_train_house, y_train_house)"
   ]
  },
  {
   "cell_type": "markdown",
   "metadata": {},
   "source": [
    "### h. Оценка качества моделей на улучшенном бейзлайне"
   ]
  },
  {
   "cell_type": "markdown",
   "metadata": {},
   "source": [
    "Классификация"
   ]
  },
  {
   "cell_type": "code",
   "execution_count": 91,
   "metadata": {},
   "outputs": [
    {
     "name": "stdout",
     "output_type": "stream",
     "text": [
      "Accuracy: 0.66\n",
      "F1 Score: 0.60\n",
      "Recall: 0.60\n",
      "Precision: 0.59\n"
     ]
    },
    {
     "data": {
      "image/png": "[encoded data removed]",
      "text/plain": [
       "<Figure size 600x600 with 2 Axes>"
      ]
     },
     "metadata": {},
     "output_type": "display_data"
    }
   ],
   "source": [
    "# Предсказание\n",
    "y_pred_shelter_best = knn_clf.predict(X_test_shelter)\n",
    "\n",
    "# Метрики качества\n",
    "accuracy_2_best = accuracy_score(y_test_shelter, y_pred_shelter_best)\n",
    "f1_2_best = f1_score(y_test_shelter, y_pred_shelter_best)\n",
    "recall_2_best = recall_score(y_test_shelter, y_pred_shelter_best)\n",
    "precision_2_best = precision_score(y_test_shelter, y_pred_shelter_best)\n",
    "\n",
    "print(f\"Accuracy: {accuracy_2_best:.2f}\")\n",
    "print(f\"F1 Score: {f1_2_best:.2f}\")\n",
    "print(f\"Recall: {recall_2_best:.2f}\")\n",
    "print(f\"Precision: {precision_2_best:.2f}\")\n",
    "\n",
    "# Confusion Matrix\n",
    "conf_matrix = confusion_matrix(y_test_shelter, y_pred_shelter_best)\n",
    "\n",
    "# Визуализация Confusion Matrix\n",
    "plt.figure(figsize=(6, 6))\n",
    "sns.heatmap(conf_matrix, annot=True, fmt='d', cmap='Blues', xticklabels=['Not Adopted', 'Adopted'], yticklabels=['Not Adopted', 'Adopted'])\n",
    "plt.title('Confusion Matrix')\n",
    "plt.xlabel('Predicted')\n",
    "plt.ylabel('Actual')\n",
    "plt.show()"
   ]
  },
  {
   "cell_type": "markdown",
   "metadata": {},
   "source": [
    "Регрессия"
   ]
  },
  {
   "cell_type": "code",
   "execution_count": 95,
   "metadata": {},
   "outputs": [
    {
     "name": "stdout",
     "output_type": "stream",
     "text": [
      "Mean Absolute Error (MAE): 141314.93703322028\n",
      "Mean Squared Error (MSE): 53179234127.38285\n",
      "R-squared (R^2): 0.6482313093498902\n"
     ]
    }
   ],
   "source": [
    "# Предсказание\n",
    "y_pred_house_best = knn_reg.predict(X_test_house)\n",
    "\n",
    "# Метрики качества\n",
    "mae_2_best = mean_absolute_error(y_test_house, y_pred_house_best)\n",
    "mse_2_best = mean_squared_error(y_test_house, y_pred_house_best)\n",
    "r2_2_best = r2_score(y_test_house, y_pred_house_best)\n",
    "\n",
    "print(f\"Mean Absolute Error (MAE): {mae_2_best}\")\n",
    "print(f\"Mean Squared Error (MSE): {mse_2_best}\")\n",
    "print(f\"R-squared (R^2): {r2_2_best}\")"
   ]
  },
  {
   "cell_type": "markdown",
   "metadata": {},
   "source": [
    "### i. Сравнение результатов первоначального бейзлайна с улучшенным"
   ]
  },
  {
   "cell_type": "markdown",
   "metadata": {},
   "source": [
    "Классификация"
   ]
  },
  {
   "cell_type": "code",
   "execution_count": 96,
   "metadata": {},
   "outputs": [
    {
     "name": "stdout",
     "output_type": "stream",
     "text": [
      "Разница в accuracy: -0.02252925486508195\n",
      "Разница в F1 Score: -0.01941714225678237\n"
     ]
    }
   ],
   "source": [
    "print(f\"Разница в accuracy: {accuracy_2_best - accuracy_best}\")\n",
    "print(f\"Разница в F1 Score: {f1_2_best - f1_best}\")"
   ]
  },
  {
   "cell_type": "markdown",
   "metadata": {},
   "source": [
    "Регрессия"
   ]
  },
  {
   "cell_type": "code",
   "execution_count": 97,
   "metadata": {},
   "outputs": [
    {
     "name": "stdout",
     "output_type": "stream",
     "text": [
      "Разница в MAE: -48.35822650548653\n",
      "Разница в MSE: -33648686.30442047\n",
      "Разница в R^2: 0.00022257850301210524\n"
     ]
    }
   ],
   "source": [
    "print(f\"Разница в MAE: {mae_2_best - mae_best}\")\n",
    "print(f\"Разница в MSE: {mse_2_best - mse_best}\")\n",
    "print(f\"Разница в R^2: {r2_2_best - r2_best}\")"
   ]
  },
  {
   "cell_type": "markdown",
   "metadata": {},
   "source": [
    "### j. Выводы"
   ]
  },
  {
   "cell_type": "markdown",
   "metadata": {},
   "source": [
    "Точность имплементированной модели для задачи классификации оказалась немного хуже, чем для встроенной модели\n",
    "\n",
    "Ошибки имплементированной модели относительно немного уменьшились, R^2 остался практически идентичным"
   ]
  }
 ],
 "metadata": {
  "kernelspec": {
   "display_name": "Python 3",
   "language": "python",
   "name": "python3"
  },
  "language_info": {
   "codemirror_mode": {
    "name": "ipython",
    "version": 3
   },
   "file_extension": ".py",
   "mimetype": "text/x-python",
   "name": "python",
   "nbconvert_exporter": "python",
   "pygments_lexer": "ipython3",
   "version": "3.10.8"
  }
 },
 "nbformat": 4,
 "nbformat_minor": 2
}
